{
 "cells": [
  {
   "cell_type": "code",
   "execution_count": 1,
   "metadata": {},
   "outputs": [],
   "source": [
    "import pymysql\n",
    "import pandas as pd"
   ]
  },
  {
   "cell_type": "code",
   "execution_count": 3,
   "metadata": {},
   "outputs": [],
   "source": [
    "connection = pymysql.connect(\n",
    "    host='127.0.0.1',\n",
    "    user='root',\n",
    "    password='Gothamhero1@1',\n",
    "    database='pizza_sales'\n",
    ")\n",
    "\n",
    "cursor = connection.cursor()\n"
   ]
  },
  {
   "cell_type": "code",
   "execution_count": 6,
   "metadata": {},
   "outputs": [
    {
     "data": {
      "text/plain": [
       "0"
      ]
     },
     "execution_count": 6,
     "metadata": {},
     "output_type": "execute_result"
    }
   ],
   "source": [
    "cursor.execute(\"\"\"\n",
    "CREATE TABLE IF NOT EXISTS pizza_types (\n",
    "    pizza_type_id VARCHAR(50) PRIMARY KEY,\n",
    "    name VARCHAR(255),\n",
    "    category VARCHAR(50),\n",
    "    ingredients TEXT\n",
    ")\n",
    "\"\"\")\n",
    "\n",
    "# Create pizza table with foreign key reference to pizza_types\n",
    "cursor.execute(\"\"\"\n",
    "CREATE TABLE IF NOT EXISTS pizzas (\n",
    "    pizza_id VARCHAR(50) PRIMARY KEY,\n",
    "    pizza_type_id VARCHAR(50),\n",
    "    size CHAR(5),\n",
    "    price DECIMAL(5, 2),\n",
    "    FOREIGN KEY (pizza_type_id) REFERENCES pizza_types(pizza_type_id)\n",
    ")\n",
    "\"\"\")\n",
    "\n",
    "# Create orders table\n",
    "cursor.execute(\"\"\"\n",
    "CREATE TABLE IF NOT EXISTS orders (\n",
    "    order_id INT PRIMARY KEY,\n",
    "    date DATE,\n",
    "    time TIME\n",
    ")\n",
    "\"\"\")\n",
    "\n",
    "# Create order_details table with foreign key references to orders and pizza\n",
    "cursor.execute(\"\"\"\n",
    "CREATE TABLE IF NOT EXISTS order_details (\n",
    "    order_details_id INT PRIMARY KEY,\n",
    "    order_id INT,\n",
    "    pizza_id VARCHAR(50),\n",
    "    quantity INT,\n",
    "    FOREIGN KEY (order_id) REFERENCES orders(order_id),\n",
    "    FOREIGN KEY (pizza_id) REFERENCES pizzaS(pizza_id)\n",
    ")\n",
    "\"\"\")"
   ]
  },
  {
   "cell_type": "code",
   "execution_count": 7,
   "metadata": {},
   "outputs": [
    {
     "name": "stdout",
     "output_type": "stream",
     "text": [
      "Data inserted successfully.\n"
     ]
    }
   ],
   "source": [
    "pizza_df = pd.read_csv('C:\\\\Users\\\\SRINIVAS\\\\Downloads\\\\pizza_sales\\\\pizza_sales\\\\pizzas.csv')\n",
    "pizza_types_df = pd.read_csv('C:\\\\Users\\\\SRINIVAS\\\\Downloads\\\\pizza_sales\\\\pizza_sales\\\\pizza_types.csv',encoding='Windows-1252')\n",
    "orders_df = pd.read_csv('C:\\\\Users\\\\SRINIVAS\\\\Downloads\\\\pizza_sales\\\\pizza_sales\\\\orders.csv')\n",
    "order_details_df = pd.read_csv('C:\\\\Users\\\\SRINIVAS\\\\Downloads\\\\pizza_sales\\\\pizza_sales\\\\order_details.csv')\n",
    "\n",
    "\n",
    "def insert_data(df, table_name):\n",
    "    cols = \"`,`\".join([str(i) for i in df.columns.tolist()])\n",
    "    for i, row in df.iterrows():\n",
    "        sql = \"INSERT INTO `\" + table_name + \"` (`\" + cols + \"`) VALUES (\" + \"%s,\"*(len(row)-1) + \"%s)\"\n",
    "        cursor.execute(sql, tuple(row))\n",
    "        connection.commit()\n",
    "\n",
    "# Insert data into tables\n",
    "insert_data(pizza_types_df, 'pizza_types')\n",
    "insert_data(pizza_df, 'pizzas')\n",
    "insert_data(orders_df, 'orders')\n",
    "insert_data(order_details_df, 'order_details')\n",
    "\n",
    "print(\"Data inserted successfully.\")"
   ]
  },
  {
   "cell_type": "code",
   "execution_count": 8,
   "metadata": {},
   "outputs": [
    {
     "name": "stdout",
     "output_type": "stream",
     "text": [
      "The Total Number of Orders is 21350\n"
     ]
    }
   ],
   "source": [
    "cursor.execute('SELECT COUNT(order_id) AS total_orders FROM orders;')\n",
    "\n",
    "# Fetch the result\n",
    "count = cursor.fetchone()\n",
    "\n",
    "# Print the total number of orders\n",
    "print(\"The Total Number of Orders is\", count[0])"
   ]
  },
  {
   "cell_type": "code",
   "execution_count": 10,
   "metadata": {},
   "outputs": [
    {
     "name": "stdout",
     "output_type": "stream",
     "text": [
      "    Hour  Frequency\n",
      "0     12       2520\n",
      "1     13       2455\n",
      "2     18       2399\n",
      "3     17       2336\n",
      "4     19       2009\n",
      "5     16       1920\n",
      "6     20       1642\n",
      "7     14       1472\n",
      "8     15       1468\n",
      "9     11       1231\n",
      "10    21       1198\n",
      "11    22        663\n",
      "12    23         28\n",
      "13    10          8\n",
      "14     9          1\n"
     ]
    }
   ],
   "source": [
    "cursor.execute(\"\"\"SELECT HOUR(time) AS Hour, COUNT(order_id) AS Frequency \n",
    "               FROM orders \n",
    "               GROUP BY Hour \n",
    "               ORDER BY Frequency DESC;\"\"\")\n",
    "\n",
    "# Fetch the results\n",
    "results = cursor.fetchall()\n",
    "\n",
    "# Create a DataFrame from the results\n",
    "df = pd.DataFrame(results, columns=['Hour', 'Frequency'])\n",
    "\n",
    "# Print the DataFrame\n",
    "print(df)"
   ]
  },
  {
   "cell_type": "code",
   "execution_count": 12,
   "metadata": {},
   "outputs": [
    {
     "name": "stdout",
     "output_type": "stream",
     "text": [
      "    Month  Frequency\n",
      "0       7       1935\n",
      "1       5       1853\n",
      "2       1       1845\n",
      "3       8       1841\n",
      "4       3       1840\n",
      "5       4       1799\n",
      "6      11       1792\n",
      "7       6       1773\n",
      "8       2       1685\n",
      "9      12       1680\n",
      "10      9       1661\n",
      "11     10       1646\n"
     ]
    }
   ],
   "source": [
    "cursor.execute(\"\"\"SELECT MONTH(DATE) AS MONTH, COUNT(order_id) AS Frequency \n",
    "               FROM orders \n",
    "               GROUP BY MONTH \n",
    "               ORDER BY Frequency DESC;\"\"\")\n",
    "results = cursor.fetchall()\n",
    "df = pd.DataFrame(results, columns=['Month', 'Frequency'])\n",
    "print(df)"
   ]
  },
  {
   "cell_type": "code",
   "execution_count": 15,
   "metadata": {},
   "outputs": [
    {
     "name": "stdout",
     "output_type": "stream",
     "text": [
      "The Average Number of Pizza's Per Day is 138.4749\n"
     ]
    }
   ],
   "source": [
    "cursor.execute(\"\"\"SELECT AVG(quantity)\n",
    "FROM (SELECT orders.date AS date, SUM(order_details.quantity) AS quantity\n",
    "FROM orders\n",
    "JOIN order_details ON orders.order_id = order_details.order_id\n",
    "GROUP BY date) AS daily_quantities;\"\"\")\n",
    "count = cursor.fetchone()\n",
    "print(\"The Average Number of Pizza's Per Day is\", count[0])"
   ]
  },
  {
   "cell_type": "code",
   "execution_count": 17,
   "metadata": {},
   "outputs": [
    {
     "name": "stdout",
     "output_type": "stream",
     "text": [
      "The Total Revenue is $ 817860.05\n"
     ]
    }
   ],
   "source": [
    "cursor.execute(\"\"\"SELECT ROUND(SUM(order_details.quantity * pizzas.price),2) AS total_revenue\n",
    "FROM order_details\n",
    "JOIN pizzas\n",
    "ON order_details.pizza_id = pizzas.pizza_id;\"\"\")\n",
    "count = cursor.fetchone()\n",
    "print(\"The Total Revenue is $\", count[0])"
   ]
  },
  {
   "cell_type": "code",
   "execution_count": 19,
   "metadata": {},
   "outputs": [
    {
     "name": "stdout",
     "output_type": "stream",
     "text": [
      "                     Pizza Type   Revenue\n",
      "0        The Thai Chicken Pizza  43434.25\n",
      "1    The Barbecue Chicken Pizza  42768.00\n",
      "2  The California Chicken Pizza  41409.50\n"
     ]
    }
   ],
   "source": [
    "cursor.execute(\"\"\"SELECT pizza_types.name, SUM(order_details.quantity * pizzas.price) AS revenue\n",
    "FROM pizza_types\n",
    "JOIN pizzas ON pizza_types.pizza_type_id = pizzas.pizza_type_id\n",
    "JOIN order_details ON order_details.pizza_id = pizzas.pizza_id\n",
    "GROUP BY pizza_types.name\n",
    "ORDER BY revenue DESC\n",
    "LIMIT 3;\"\"\")\n",
    "results = cursor.fetchall()\n",
    "df = pd.DataFrame(results, columns=['Pizza Type', 'Revenue'])\n",
    "print(df)"
   ]
  },
  {
   "cell_type": "code",
   "execution_count": 23,
   "metadata": {},
   "outputs": [
    {
     "name": "stdout",
     "output_type": "stream",
     "text": [
      "  Pizza Size  Number of Times Ordered\n",
      "0          L                    18526\n",
      "1          M                    15385\n",
      "2          S                    14137\n",
      "3         XL                      544\n",
      "4        XXL                       28\n"
     ]
    }
   ],
   "source": [
    "cursor.execute(\"\"\"SELECT pizzas.size, COUNT(order_details.order_details_id) AS order_count\n",
    "FROM pizzas\n",
    "INNER JOIN order_details ON pizzas.pizza_id = order_details.pizza_id\n",
    "GROUP BY pizzas.size\n",
    "ORDER BY order_count DESC;\"\"\")\n",
    "results = cursor.fetchall()\n",
    "df = pd.DataFrame(results, columns=['Pizza Size', 'Number of Times Ordered'])\n",
    "print(df)"
   ]
  },
  {
   "cell_type": "code",
   "execution_count": 21,
   "metadata": {},
   "outputs": [
    {
     "name": "stdout",
     "output_type": "stream",
     "text": [
      "                   Pizza Type Number of Times Ordered\n",
      "0    The Classic Deluxe Pizza                    2453\n",
      "1  The Barbecue Chicken Pizza                    2432\n",
      "2          The Hawaiian Pizza                    2422\n",
      "3         The Pepperoni Pizza                    2418\n",
      "4      The Thai Chicken Pizza                    2371\n"
     ]
    }
   ],
   "source": [
    "cursor.execute(\"\"\"SELECT pizza_types.name, SUM(order_details.quantity) AS total_quantity_ordered\n",
    "FROM pizza_types\n",
    "INNER JOIN pizzas ON pizza_types.pizza_type_id = pizzas.pizza_type_id\n",
    "INNER JOIN order_details ON order_details.pizza_id = pizzas.pizza_id\n",
    "GROUP BY pizza_types.name\n",
    "ORDER BY total_quantity_ordered DESC\n",
    "LIMIT 5;\"\"\")\n",
    "results = cursor.fetchall()\n",
    "df = pd.DataFrame(results, columns=['Pizza Type', 'Number of Times Ordered'])\n",
    "print(df)"
   ]
  },
  {
   "cell_type": "code",
   "execution_count": null,
   "metadata": {},
   "outputs": [],
   "source": []
  }
 ],
 "metadata": {
  "kernelspec": {
   "display_name": "Python 3",
   "language": "python",
   "name": "python3"
  },
  "language_info": {
   "codemirror_mode": {
    "name": "ipython",
    "version": 3
   },
   "file_extension": ".py",
   "mimetype": "text/x-python",
   "name": "python",
   "nbconvert_exporter": "python",
   "pygments_lexer": "ipython3",
   "version": "3.11.9"
  }
 },
 "nbformat": 4,
 "nbformat_minor": 2
}
